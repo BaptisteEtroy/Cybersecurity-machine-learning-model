{
  "nbformat": 4,
  "nbformat_minor": 0,
  "metadata": {
    "colab": {
      "provenance": []
    },
    "kernelspec": {
      "name": "python3",
      "display_name": "Python 3"
    },
    "language_info": {
      "name": "python"
    }
  },
  "cells": [
    {
      "cell_type": "markdown",
      "source": [
        "# Cybersecurity Data Analysis Overview\n",
        "This Notebook is designed to explore and analyze network traffic data to identify potential cybersecurity threats. We will be using Python libraries such as Pandas for data manipulation, Matplotlib for visualization, and Scikit-Learn for building predictive models.\n"
      ],
      "metadata": {
        "id": "cH5qy0sEaYSs"
      }
    },
    {
      "cell_type": "markdown",
      "source": [
        "# Setup\n",
        "\n",
        "This section prepares the environment by importing all necessary libraries and loading the datasets that will be used throughout this notebook. This centralization helps in managing dependencies and data sources effectively.\n",
        "\n",
        "## Import Libraries\n",
        "\n",
        "Import all the libraries required for data handling, processing, and visualization, as well as the machine learning libraries needed for model building.\n",
        "\n",
        "## Load Dataset\n",
        "\n",
        "We'll mount Google Drive to access the dataset (if using Google Colab) and load it into a Pandas DataFrame. This step ensures that all data used in the analyses is accessible and correctly loaded from the start.\n"
      ],
      "metadata": {
        "id": "dMWumJajVmvm"
      }
    },
    {
      "cell_type": "code",
      "execution_count": 2,
      "metadata": {
        "id": "8Ie-M6nkn-p6",
        "colab": {
          "base_uri": "https://localhost:8080/",
          "height": 418
        },
        "outputId": "3d2e314b-1579-42f4-de6a-3888f4b39f64"
      },
      "outputs": [
        {
          "output_type": "stream",
          "name": "stdout",
          "text": [
            "Mounted at /content/drive\n"
          ]
        },
        {
          "output_type": "execute_result",
          "data": {
            "text/plain": [
              "   bytes_in  bytes_out         creation_time              end_time  \\\n",
              "0      5602      12990  2024-04-25T23:00:00Z  2024-04-25T23:10:00Z   \n",
              "1     30912      18186  2024-04-25T23:00:00Z  2024-04-25T23:10:00Z   \n",
              "2     28506      13468  2024-04-25T23:00:00Z  2024-04-25T23:10:00Z   \n",
              "3     30546      14278  2024-04-25T23:00:00Z  2024-04-25T23:10:00Z   \n",
              "4      6526      13892  2024-04-25T23:00:00Z  2024-04-25T23:10:00Z   \n",
              "\n",
              "            src_ip src_ip_country_code protocol  response.code  dst_port  \\\n",
              "0   147.161.161.82                  AE    HTTPS            200       443   \n",
              "1     165.225.33.6                  US    HTTPS            200       443   \n",
              "2  165.225.212.255                  CA    HTTPS            200       443   \n",
              "3   136.226.64.114                  US    HTTPS            200       443   \n",
              "4   165.225.240.79                  NL    HTTPS            200       443   \n",
              "\n",
              "         dst_ip              rule_names                      observation_name  \\\n",
              "0  10.138.69.97  Suspicious Web Traffic  Adversary Infrastructure Interaction   \n",
              "1  10.138.69.97  Suspicious Web Traffic  Adversary Infrastructure Interaction   \n",
              "2  10.138.69.97  Suspicious Web Traffic  Adversary Infrastructure Interaction   \n",
              "3  10.138.69.97  Suspicious Web Traffic  Adversary Infrastructure Interaction   \n",
              "4  10.138.69.97  Suspicious Web Traffic  Adversary Infrastructure Interaction   \n",
              "\n",
              "    source.meta     source.name                  time detection_types  \n",
              "0  AWS_VPC_Flow  prod_webserver  2024-04-25T23:00:00Z        waf_rule  \n",
              "1  AWS_VPC_Flow  prod_webserver  2024-04-25T23:00:00Z        waf_rule  \n",
              "2  AWS_VPC_Flow  prod_webserver  2024-04-25T23:00:00Z        waf_rule  \n",
              "3  AWS_VPC_Flow  prod_webserver  2024-04-25T23:00:00Z        waf_rule  \n",
              "4  AWS_VPC_Flow  prod_webserver  2024-04-25T23:00:00Z        waf_rule  "
            ],
            "text/html": [
              "\n",
              "  <div id=\"df-e7de0024-e37b-4404-be69-ec9f9897aafb\" class=\"colab-df-container\">\n",
              "    <div>\n",
              "<style scoped>\n",
              "    .dataframe tbody tr th:only-of-type {\n",
              "        vertical-align: middle;\n",
              "    }\n",
              "\n",
              "    .dataframe tbody tr th {\n",
              "        vertical-align: top;\n",
              "    }\n",
              "\n",
              "    .dataframe thead th {\n",
              "        text-align: right;\n",
              "    }\n",
              "</style>\n",
              "<table border=\"1\" class=\"dataframe\">\n",
              "  <thead>\n",
              "    <tr style=\"text-align: right;\">\n",
              "      <th></th>\n",
              "      <th>bytes_in</th>\n",
              "      <th>bytes_out</th>\n",
              "      <th>creation_time</th>\n",
              "      <th>end_time</th>\n",
              "      <th>src_ip</th>\n",
              "      <th>src_ip_country_code</th>\n",
              "      <th>protocol</th>\n",
              "      <th>response.code</th>\n",
              "      <th>dst_port</th>\n",
              "      <th>dst_ip</th>\n",
              "      <th>rule_names</th>\n",
              "      <th>observation_name</th>\n",
              "      <th>source.meta</th>\n",
              "      <th>source.name</th>\n",
              "      <th>time</th>\n",
              "      <th>detection_types</th>\n",
              "    </tr>\n",
              "  </thead>\n",
              "  <tbody>\n",
              "    <tr>\n",
              "      <th>0</th>\n",
              "      <td>5602</td>\n",
              "      <td>12990</td>\n",
              "      <td>2024-04-25T23:00:00Z</td>\n",
              "      <td>2024-04-25T23:10:00Z</td>\n",
              "      <td>147.161.161.82</td>\n",
              "      <td>AE</td>\n",
              "      <td>HTTPS</td>\n",
              "      <td>200</td>\n",
              "      <td>443</td>\n",
              "      <td>10.138.69.97</td>\n",
              "      <td>Suspicious Web Traffic</td>\n",
              "      <td>Adversary Infrastructure Interaction</td>\n",
              "      <td>AWS_VPC_Flow</td>\n",
              "      <td>prod_webserver</td>\n",
              "      <td>2024-04-25T23:00:00Z</td>\n",
              "      <td>waf_rule</td>\n",
              "    </tr>\n",
              "    <tr>\n",
              "      <th>1</th>\n",
              "      <td>30912</td>\n",
              "      <td>18186</td>\n",
              "      <td>2024-04-25T23:00:00Z</td>\n",
              "      <td>2024-04-25T23:10:00Z</td>\n",
              "      <td>165.225.33.6</td>\n",
              "      <td>US</td>\n",
              "      <td>HTTPS</td>\n",
              "      <td>200</td>\n",
              "      <td>443</td>\n",
              "      <td>10.138.69.97</td>\n",
              "      <td>Suspicious Web Traffic</td>\n",
              "      <td>Adversary Infrastructure Interaction</td>\n",
              "      <td>AWS_VPC_Flow</td>\n",
              "      <td>prod_webserver</td>\n",
              "      <td>2024-04-25T23:00:00Z</td>\n",
              "      <td>waf_rule</td>\n",
              "    </tr>\n",
              "    <tr>\n",
              "      <th>2</th>\n",
              "      <td>28506</td>\n",
              "      <td>13468</td>\n",
              "      <td>2024-04-25T23:00:00Z</td>\n",
              "      <td>2024-04-25T23:10:00Z</td>\n",
              "      <td>165.225.212.255</td>\n",
              "      <td>CA</td>\n",
              "      <td>HTTPS</td>\n",
              "      <td>200</td>\n",
              "      <td>443</td>\n",
              "      <td>10.138.69.97</td>\n",
              "      <td>Suspicious Web Traffic</td>\n",
              "      <td>Adversary Infrastructure Interaction</td>\n",
              "      <td>AWS_VPC_Flow</td>\n",
              "      <td>prod_webserver</td>\n",
              "      <td>2024-04-25T23:00:00Z</td>\n",
              "      <td>waf_rule</td>\n",
              "    </tr>\n",
              "    <tr>\n",
              "      <th>3</th>\n",
              "      <td>30546</td>\n",
              "      <td>14278</td>\n",
              "      <td>2024-04-25T23:00:00Z</td>\n",
              "      <td>2024-04-25T23:10:00Z</td>\n",
              "      <td>136.226.64.114</td>\n",
              "      <td>US</td>\n",
              "      <td>HTTPS</td>\n",
              "      <td>200</td>\n",
              "      <td>443</td>\n",
              "      <td>10.138.69.97</td>\n",
              "      <td>Suspicious Web Traffic</td>\n",
              "      <td>Adversary Infrastructure Interaction</td>\n",
              "      <td>AWS_VPC_Flow</td>\n",
              "      <td>prod_webserver</td>\n",
              "      <td>2024-04-25T23:00:00Z</td>\n",
              "      <td>waf_rule</td>\n",
              "    </tr>\n",
              "    <tr>\n",
              "      <th>4</th>\n",
              "      <td>6526</td>\n",
              "      <td>13892</td>\n",
              "      <td>2024-04-25T23:00:00Z</td>\n",
              "      <td>2024-04-25T23:10:00Z</td>\n",
              "      <td>165.225.240.79</td>\n",
              "      <td>NL</td>\n",
              "      <td>HTTPS</td>\n",
              "      <td>200</td>\n",
              "      <td>443</td>\n",
              "      <td>10.138.69.97</td>\n",
              "      <td>Suspicious Web Traffic</td>\n",
              "      <td>Adversary Infrastructure Interaction</td>\n",
              "      <td>AWS_VPC_Flow</td>\n",
              "      <td>prod_webserver</td>\n",
              "      <td>2024-04-25T23:00:00Z</td>\n",
              "      <td>waf_rule</td>\n",
              "    </tr>\n",
              "  </tbody>\n",
              "</table>\n",
              "</div>\n",
              "    <div class=\"colab-df-buttons\">\n",
              "\n",
              "  <div class=\"colab-df-container\">\n",
              "    <button class=\"colab-df-convert\" onclick=\"convertToInteractive('df-e7de0024-e37b-4404-be69-ec9f9897aafb')\"\n",
              "            title=\"Convert this dataframe to an interactive table.\"\n",
              "            style=\"display:none;\">\n",
              "\n",
              "  <svg xmlns=\"http://www.w3.org/2000/svg\" height=\"24px\" viewBox=\"0 -960 960 960\">\n",
              "    <path d=\"M120-120v-720h720v720H120Zm60-500h600v-160H180v160Zm220 220h160v-160H400v160Zm0 220h160v-160H400v160ZM180-400h160v-160H180v160Zm440 0h160v-160H620v160ZM180-180h160v-160H180v160Zm440 0h160v-160H620v160Z\"/>\n",
              "  </svg>\n",
              "    </button>\n",
              "\n",
              "  <style>\n",
              "    .colab-df-container {\n",
              "      display:flex;\n",
              "      gap: 12px;\n",
              "    }\n",
              "\n",
              "    .colab-df-convert {\n",
              "      background-color: #E8F0FE;\n",
              "      border: none;\n",
              "      border-radius: 50%;\n",
              "      cursor: pointer;\n",
              "      display: none;\n",
              "      fill: #1967D2;\n",
              "      height: 32px;\n",
              "      padding: 0 0 0 0;\n",
              "      width: 32px;\n",
              "    }\n",
              "\n",
              "    .colab-df-convert:hover {\n",
              "      background-color: #E2EBFA;\n",
              "      box-shadow: 0px 1px 2px rgba(60, 64, 67, 0.3), 0px 1px 3px 1px rgba(60, 64, 67, 0.15);\n",
              "      fill: #174EA6;\n",
              "    }\n",
              "\n",
              "    .colab-df-buttons div {\n",
              "      margin-bottom: 4px;\n",
              "    }\n",
              "\n",
              "    [theme=dark] .colab-df-convert {\n",
              "      background-color: #3B4455;\n",
              "      fill: #D2E3FC;\n",
              "    }\n",
              "\n",
              "    [theme=dark] .colab-df-convert:hover {\n",
              "      background-color: #434B5C;\n",
              "      box-shadow: 0px 1px 3px 1px rgba(0, 0, 0, 0.15);\n",
              "      filter: drop-shadow(0px 1px 2px rgba(0, 0, 0, 0.3));\n",
              "      fill: #FFFFFF;\n",
              "    }\n",
              "  </style>\n",
              "\n",
              "    <script>\n",
              "      const buttonEl =\n",
              "        document.querySelector('#df-e7de0024-e37b-4404-be69-ec9f9897aafb button.colab-df-convert');\n",
              "      buttonEl.style.display =\n",
              "        google.colab.kernel.accessAllowed ? 'block' : 'none';\n",
              "\n",
              "      async function convertToInteractive(key) {\n",
              "        const element = document.querySelector('#df-e7de0024-e37b-4404-be69-ec9f9897aafb');\n",
              "        const dataTable =\n",
              "          await google.colab.kernel.invokeFunction('convertToInteractive',\n",
              "                                                    [key], {});\n",
              "        if (!dataTable) return;\n",
              "\n",
              "        const docLinkHtml = 'Like what you see? Visit the ' +\n",
              "          '<a target=\"_blank\" href=https://colab.research.google.com/notebooks/data_table.ipynb>data table notebook</a>'\n",
              "          + ' to learn more about interactive tables.';\n",
              "        element.innerHTML = '';\n",
              "        dataTable['output_type'] = 'display_data';\n",
              "        await google.colab.output.renderOutput(dataTable, element);\n",
              "        const docLink = document.createElement('div');\n",
              "        docLink.innerHTML = docLinkHtml;\n",
              "        element.appendChild(docLink);\n",
              "      }\n",
              "    </script>\n",
              "  </div>\n",
              "\n",
              "\n",
              "<div id=\"df-cc9b1935-9d20-4399-9f36-09ea4127efb1\">\n",
              "  <button class=\"colab-df-quickchart\" onclick=\"quickchart('df-cc9b1935-9d20-4399-9f36-09ea4127efb1')\"\n",
              "            title=\"Suggest charts\"\n",
              "            style=\"display:none;\">\n",
              "\n",
              "<svg xmlns=\"http://www.w3.org/2000/svg\" height=\"24px\"viewBox=\"0 0 24 24\"\n",
              "     width=\"24px\">\n",
              "    <g>\n",
              "        <path d=\"M19 3H5c-1.1 0-2 .9-2 2v14c0 1.1.9 2 2 2h14c1.1 0 2-.9 2-2V5c0-1.1-.9-2-2-2zM9 17H7v-7h2v7zm4 0h-2V7h2v10zm4 0h-2v-4h2v4z\"/>\n",
              "    </g>\n",
              "</svg>\n",
              "  </button>\n",
              "\n",
              "<style>\n",
              "  .colab-df-quickchart {\n",
              "      --bg-color: #E8F0FE;\n",
              "      --fill-color: #1967D2;\n",
              "      --hover-bg-color: #E2EBFA;\n",
              "      --hover-fill-color: #174EA6;\n",
              "      --disabled-fill-color: #AAA;\n",
              "      --disabled-bg-color: #DDD;\n",
              "  }\n",
              "\n",
              "  [theme=dark] .colab-df-quickchart {\n",
              "      --bg-color: #3B4455;\n",
              "      --fill-color: #D2E3FC;\n",
              "      --hover-bg-color: #434B5C;\n",
              "      --hover-fill-color: #FFFFFF;\n",
              "      --disabled-bg-color: #3B4455;\n",
              "      --disabled-fill-color: #666;\n",
              "  }\n",
              "\n",
              "  .colab-df-quickchart {\n",
              "    background-color: var(--bg-color);\n",
              "    border: none;\n",
              "    border-radius: 50%;\n",
              "    cursor: pointer;\n",
              "    display: none;\n",
              "    fill: var(--fill-color);\n",
              "    height: 32px;\n",
              "    padding: 0;\n",
              "    width: 32px;\n",
              "  }\n",
              "\n",
              "  .colab-df-quickchart:hover {\n",
              "    background-color: var(--hover-bg-color);\n",
              "    box-shadow: 0 1px 2px rgba(60, 64, 67, 0.3), 0 1px 3px 1px rgba(60, 64, 67, 0.15);\n",
              "    fill: var(--button-hover-fill-color);\n",
              "  }\n",
              "\n",
              "  .colab-df-quickchart-complete:disabled,\n",
              "  .colab-df-quickchart-complete:disabled:hover {\n",
              "    background-color: var(--disabled-bg-color);\n",
              "    fill: var(--disabled-fill-color);\n",
              "    box-shadow: none;\n",
              "  }\n",
              "\n",
              "  .colab-df-spinner {\n",
              "    border: 2px solid var(--fill-color);\n",
              "    border-color: transparent;\n",
              "    border-bottom-color: var(--fill-color);\n",
              "    animation:\n",
              "      spin 1s steps(1) infinite;\n",
              "  }\n",
              "\n",
              "  @keyframes spin {\n",
              "    0% {\n",
              "      border-color: transparent;\n",
              "      border-bottom-color: var(--fill-color);\n",
              "      border-left-color: var(--fill-color);\n",
              "    }\n",
              "    20% {\n",
              "      border-color: transparent;\n",
              "      border-left-color: var(--fill-color);\n",
              "      border-top-color: var(--fill-color);\n",
              "    }\n",
              "    30% {\n",
              "      border-color: transparent;\n",
              "      border-left-color: var(--fill-color);\n",
              "      border-top-color: var(--fill-color);\n",
              "      border-right-color: var(--fill-color);\n",
              "    }\n",
              "    40% {\n",
              "      border-color: transparent;\n",
              "      border-right-color: var(--fill-color);\n",
              "      border-top-color: var(--fill-color);\n",
              "    }\n",
              "    60% {\n",
              "      border-color: transparent;\n",
              "      border-right-color: var(--fill-color);\n",
              "    }\n",
              "    80% {\n",
              "      border-color: transparent;\n",
              "      border-right-color: var(--fill-color);\n",
              "      border-bottom-color: var(--fill-color);\n",
              "    }\n",
              "    90% {\n",
              "      border-color: transparent;\n",
              "      border-bottom-color: var(--fill-color);\n",
              "    }\n",
              "  }\n",
              "</style>\n",
              "\n",
              "  <script>\n",
              "    async function quickchart(key) {\n",
              "      const quickchartButtonEl =\n",
              "        document.querySelector('#' + key + ' button');\n",
              "      quickchartButtonEl.disabled = true;  // To prevent multiple clicks.\n",
              "      quickchartButtonEl.classList.add('colab-df-spinner');\n",
              "      try {\n",
              "        const charts = await google.colab.kernel.invokeFunction(\n",
              "            'suggestCharts', [key], {});\n",
              "      } catch (error) {\n",
              "        console.error('Error during call to suggestCharts:', error);\n",
              "      }\n",
              "      quickchartButtonEl.classList.remove('colab-df-spinner');\n",
              "      quickchartButtonEl.classList.add('colab-df-quickchart-complete');\n",
              "    }\n",
              "    (() => {\n",
              "      let quickchartButtonEl =\n",
              "        document.querySelector('#df-cc9b1935-9d20-4399-9f36-09ea4127efb1 button');\n",
              "      quickchartButtonEl.style.display =\n",
              "        google.colab.kernel.accessAllowed ? 'block' : 'none';\n",
              "    })();\n",
              "  </script>\n",
              "</div>\n",
              "    </div>\n",
              "  </div>\n"
            ],
            "application/vnd.google.colaboratory.intrinsic+json": {
              "type": "dataframe",
              "variable_name": "df",
              "summary": "{\n  \"name\": \"df\",\n  \"rows\": 282,\n  \"fields\": [\n    {\n      \"column\": \"bytes_in\",\n      \"properties\": {\n        \"dtype\": \"number\",\n        \"std\": 4149311,\n        \"min\": 40,\n        \"max\": 25207794,\n        \"num_unique_values\": 260,\n        \"samples\": [\n          80,\n          18239056,\n          1628\n        ],\n        \"semantic_type\": \"\",\n        \"description\": \"\"\n      }\n    },\n    {\n      \"column\": \"bytes_out\",\n      \"properties\": {\n        \"dtype\": \"number\",\n        \"std\": 254927,\n        \"min\": 44,\n        \"max\": 1561220,\n        \"num_unique_values\": 239,\n        \"samples\": [\n          12628,\n          29208,\n          12924\n        ],\n        \"semantic_type\": \"\",\n        \"description\": \"\"\n      }\n    },\n    {\n      \"column\": \"creation_time\",\n      \"properties\": {\n        \"dtype\": \"object\",\n        \"num_unique_values\": 30,\n        \"samples\": [\n          \"2024-04-26T09:30:00Z\",\n          \"2024-04-26T01:30:00Z\",\n          \"2024-04-26T08:50:00Z\"\n        ],\n        \"semantic_type\": \"\",\n        \"description\": \"\"\n      }\n    },\n    {\n      \"column\": \"end_time\",\n      \"properties\": {\n        \"dtype\": \"object\",\n        \"num_unique_values\": 30,\n        \"samples\": [\n          \"2024-04-26T09:40:00Z\",\n          \"2024-04-26T01:40:00Z\",\n          \"2024-04-26T09:00:00Z\"\n        ],\n        \"semantic_type\": \"\",\n        \"description\": \"\"\n      }\n    },\n    {\n      \"column\": \"src_ip\",\n      \"properties\": {\n        \"dtype\": \"category\",\n        \"num_unique_values\": 28,\n        \"samples\": [\n          \"147.161.131.1\",\n          \"65.49.1.95\",\n          \"165.225.209.4\"\n        ],\n        \"semantic_type\": \"\",\n        \"description\": \"\"\n      }\n    },\n    {\n      \"column\": \"src_ip_country_code\",\n      \"properties\": {\n        \"dtype\": \"category\",\n        \"num_unique_values\": 7,\n        \"samples\": [\n          \"AE\",\n          \"US\",\n          \"AT\"\n        ],\n        \"semantic_type\": \"\",\n        \"description\": \"\"\n      }\n    },\n    {\n      \"column\": \"protocol\",\n      \"properties\": {\n        \"dtype\": \"category\",\n        \"num_unique_values\": 1,\n        \"samples\": [\n          \"HTTPS\"\n        ],\n        \"semantic_type\": \"\",\n        \"description\": \"\"\n      }\n    },\n    {\n      \"column\": \"response.code\",\n      \"properties\": {\n        \"dtype\": \"number\",\n        \"std\": 0,\n        \"min\": 200,\n        \"max\": 200,\n        \"num_unique_values\": 1,\n        \"samples\": [\n          200\n        ],\n        \"semantic_type\": \"\",\n        \"description\": \"\"\n      }\n    },\n    {\n      \"column\": \"dst_port\",\n      \"properties\": {\n        \"dtype\": \"number\",\n        \"std\": 0,\n        \"min\": 443,\n        \"max\": 443,\n        \"num_unique_values\": 1,\n        \"samples\": [\n          443\n        ],\n        \"semantic_type\": \"\",\n        \"description\": \"\"\n      }\n    },\n    {\n      \"column\": \"dst_ip\",\n      \"properties\": {\n        \"dtype\": \"category\",\n        \"num_unique_values\": 1,\n        \"samples\": [\n          \"10.138.69.97\"\n        ],\n        \"semantic_type\": \"\",\n        \"description\": \"\"\n      }\n    },\n    {\n      \"column\": \"rule_names\",\n      \"properties\": {\n        \"dtype\": \"category\",\n        \"num_unique_values\": 1,\n        \"samples\": [\n          \"Suspicious Web Traffic\"\n        ],\n        \"semantic_type\": \"\",\n        \"description\": \"\"\n      }\n    },\n    {\n      \"column\": \"observation_name\",\n      \"properties\": {\n        \"dtype\": \"category\",\n        \"num_unique_values\": 1,\n        \"samples\": [\n          \"Adversary Infrastructure Interaction\"\n        ],\n        \"semantic_type\": \"\",\n        \"description\": \"\"\n      }\n    },\n    {\n      \"column\": \"source.meta\",\n      \"properties\": {\n        \"dtype\": \"category\",\n        \"num_unique_values\": 1,\n        \"samples\": [\n          \"AWS_VPC_Flow\"\n        ],\n        \"semantic_type\": \"\",\n        \"description\": \"\"\n      }\n    },\n    {\n      \"column\": \"source.name\",\n      \"properties\": {\n        \"dtype\": \"category\",\n        \"num_unique_values\": 1,\n        \"samples\": [\n          \"prod_webserver\"\n        ],\n        \"semantic_type\": \"\",\n        \"description\": \"\"\n      }\n    },\n    {\n      \"column\": \"time\",\n      \"properties\": {\n        \"dtype\": \"object\",\n        \"num_unique_values\": 30,\n        \"samples\": [\n          \"2024-04-26T09:30:00Z\"\n        ],\n        \"semantic_type\": \"\",\n        \"description\": \"\"\n      }\n    },\n    {\n      \"column\": \"detection_types\",\n      \"properties\": {\n        \"dtype\": \"category\",\n        \"num_unique_values\": 1,\n        \"samples\": [\n          \"waf_rule\"\n        ],\n        \"semantic_type\": \"\",\n        \"description\": \"\"\n      }\n    }\n  ]\n}"
            }
          },
          "metadata": {},
          "execution_count": 2
        }
      ],
      "source": [
        "# Import necessary libraries\n",
        "import pandas as pd\n",
        "import numpy as np\n",
        "import matplotlib.pyplot as plt\n",
        "import seaborn as sns\n",
        "from sklearn.model_selection import train_test_split\n",
        "from sklearn.preprocessing import LabelEncoder\n",
        "from sklearn.preprocessing import StandardScaler\n",
        "from sklearn.tree import DecisionTreeClassifier\n",
        "from google.colab import drive\n",
        "\n",
        "# Configure matplotlib for better visuals\n",
        "plt.style.use('ggplot')\n",
        "\n",
        "# Mount Google Drive (specific to Google Colab users)\n",
        "drive.mount('/content/drive')\n",
        "\n",
        "# Define the path to the dataset and load it\n",
        "file_path = '/content/drive/My Drive/CloudWatch_Traffic_Web_Attack.csv'  # Update the path as per your directory structure\n",
        "df = pd.read_csv(file_path)\n",
        "\n",
        "# Display the first few rows of the dataset to confirm it's loaded correctly\n",
        "df.head()\n"
      ]
    },
    {
      "cell_type": "markdown",
      "source": [
        "###Converting Datetime, Standard Scaling, Filtering Outliers"
      ],
      "metadata": {
        "id": "lxYFka3z1v0T"
      }
    },
    {
      "cell_type": "code",
      "source": [
        "df['creation_time'] = pd.to_datetime(df['creation_time'])\n",
        "df['end_time'] = pd.to_datetime(df['end_time'])\n",
        "df['time'] = pd.to_datetime(df['time'])\n",
        "\n",
        "scaler = StandardScaler()\n",
        "df[['bytes_in', 'bytes_out']] = scaler.fit_transform(df[['bytes_in', 'bytes_out']])\n",
        "\n",
        "# Calculate Q1 (25th percentile) and Q3 (75th percentile) of the data\n",
        "Q1 = df[['bytes_in', 'bytes_out']].quantile(0.25)\n",
        "Q3 = df[['bytes_in', 'bytes_out']].quantile(0.75)\n",
        "\n",
        "# Compute the IQR\n",
        "IQR = Q3 - Q1\n",
        "lower_bound = Q1 - 1.5 * IQR\n",
        "upper_bound = Q3 + 1.5 * IQR\n",
        "\n",
        "\n",
        "filtered_df = df[(df[['bytes_in', 'bytes_out']] > lower_bound) & (df[['bytes_in', 'bytes_out']] < upper_bound)].dropna()"
      ],
      "metadata": {
        "id": "p7hYIVKd03Tg"
      },
      "execution_count": 6,
      "outputs": []
    },
    {
      "cell_type": "markdown",
      "source": [
        "# Preparing and Analyzing Cybersecurity Data\n",
        "This code segment is primarily focused on preparing and analyzing cybersecurity data using a decision tree classifier. It includes loading necessary libraries, preprocessing the dataset (like encoding categorical variables and creating a target variable), and splitting the data into training and test sets for model training and evaluation. The output provides an initial glance at the processed data and concludes with training the model and making predictions on the test set."
      ],
      "metadata": {
        "id": "oxUHGHJZMZgg"
      }
    },
    {
      "cell_type": "code",
      "source": [
        "df['is_suspicious'] = (df['rule_names'] != 'None').astype(int)\n",
        "print(df.head())\n",
        "\n",
        "\n",
        "features = ['bytes_in', 'bytes_out', 'src_ip', 'src_ip_country_code', 'protocol',\n",
        "            'response.code', 'dst_port', 'dst_ip', 'source.meta', 'source.name']\n",
        "X = df[features].copy()\n",
        "y = df['is_suspicious']\n",
        "\n",
        "#Encoding categorical variables\n",
        "le = LabelEncoder()\n",
        "for col in X.select_dtypes(include=['object']).columns:\n",
        "    X[col] = le.fit_transform(X[col])\n",
        "\n",
        "#Split data into training and test sets\n",
        "X_train, X_test, y_train, y_test = train_test_split(X, y, test_size=0.2, random_state=42)\n",
        "clf = DecisionTreeClassifier(random_state=42)\n",
        "clf.fit(X_train, y_train)\n",
        "y_pred = clf.predict(X_test)"
      ],
      "metadata": {
        "id": "5bLH7adS3526",
        "colab": {
          "base_uri": "https://localhost:8080/"
        },
        "outputId": "5cc71f6b-b752-469c-90be-c5947e210c46"
      },
      "execution_count": 7,
      "outputs": [
        {
          "output_type": "stream",
          "name": "stdout",
          "text": [
            "   bytes_in  bytes_out             creation_time                  end_time  \\\n",
            "0 -0.288219  -0.281223 2024-04-25 23:00:00+00:00 2024-04-25 23:10:00+00:00   \n",
            "1 -0.282108  -0.260804 2024-04-25 23:00:00+00:00 2024-04-25 23:10:00+00:00   \n",
            "2 -0.282689  -0.279344 2024-04-25 23:00:00+00:00 2024-04-25 23:10:00+00:00   \n",
            "3 -0.282197  -0.276161 2024-04-25 23:00:00+00:00 2024-04-25 23:10:00+00:00   \n",
            "4 -0.287996  -0.277678 2024-04-25 23:00:00+00:00 2024-04-25 23:10:00+00:00   \n",
            "\n",
            "            src_ip src_ip_country_code protocol  response.code  dst_port  \\\n",
            "0   147.161.161.82                  AE    HTTPS            200       443   \n",
            "1     165.225.33.6                  US    HTTPS            200       443   \n",
            "2  165.225.212.255                  CA    HTTPS            200       443   \n",
            "3   136.226.64.114                  US    HTTPS            200       443   \n",
            "4   165.225.240.79                  NL    HTTPS            200       443   \n",
            "\n",
            "         dst_ip              rule_names                      observation_name  \\\n",
            "0  10.138.69.97  Suspicious Web Traffic  Adversary Infrastructure Interaction   \n",
            "1  10.138.69.97  Suspicious Web Traffic  Adversary Infrastructure Interaction   \n",
            "2  10.138.69.97  Suspicious Web Traffic  Adversary Infrastructure Interaction   \n",
            "3  10.138.69.97  Suspicious Web Traffic  Adversary Infrastructure Interaction   \n",
            "4  10.138.69.97  Suspicious Web Traffic  Adversary Infrastructure Interaction   \n",
            "\n",
            "    source.meta     source.name                      time detection_types  \\\n",
            "0  AWS_VPC_Flow  prod_webserver 2024-04-25 23:00:00+00:00        waf_rule   \n",
            "1  AWS_VPC_Flow  prod_webserver 2024-04-25 23:00:00+00:00        waf_rule   \n",
            "2  AWS_VPC_Flow  prod_webserver 2024-04-25 23:00:00+00:00        waf_rule   \n",
            "3  AWS_VPC_Flow  prod_webserver 2024-04-25 23:00:00+00:00        waf_rule   \n",
            "4  AWS_VPC_Flow  prod_webserver 2024-04-25 23:00:00+00:00        waf_rule   \n",
            "\n",
            "   is_suspicious  \n",
            "0              1  \n",
            "1              1  \n",
            "2              1  \n",
            "3              1  \n",
            "4              1  \n"
          ]
        }
      ]
    },
    {
      "cell_type": "markdown",
      "source": [
        "The displayed output provides a snapshot of the preprocessed cybersecurity data from your DataFrame. This table showcases various features such as incoming and outgoing bytes, source and destination IPs, protocols used, HTTP response codes, and specific security rules triggered (labeled as 'Suspicious Web Traffic'). The 'is_suspicious' column is derived from these rules, marking the traffic as suspicious (1) if any rules are triggered, otherwise not suspicious (0). This visual confirmation is useful for verifying data integrity and correctness of transformations and encoding applied earlier in the script."
      ],
      "metadata": {
        "id": "Fo74BBugMq2S"
      }
    },
    {
      "cell_type": "markdown",
      "source": [
        "# Generating Anomaly Reports(user friendly)\n",
        "This code segment is designed to make the output of the anomaly detection process more understandable and actionable. The function interpret_anomalies takes the dataset and prediction results, identifies records flagged as anomalies (predictions equal to 1), and constructs descriptive messages for each anomaly. These messages detail when and where the anomalies occurred, including the source IP, country code, protocol, destination port, response code, and the specific rule that was triggered. The output block at the end displays the first five anomaly messages, providing a quick overview of the most critical issues detected."
      ],
      "metadata": {
        "id": "1gHPCkDMMx8e"
      }
    },
    {
      "cell_type": "code",
      "source": [
        "#User Friendly Output\n",
        "\n",
        "def interpret_anomalies(data, predictions):\n",
        "    anomalies = data[predictions == 1]\n",
        "    messages = []\n",
        "    for _, row in anomalies.iterrows():\n",
        "        message = f\"Anomaly detected on {row['time']} from IP {row['src_ip']} \"\n",
        "        message += f\"(Country: {row['src_ip_country_code']}). \"\n",
        "        message += f\"Using protocol {row['protocol']} on port {row['dst_port']}, \"\n",
        "        message += f\"the server responded with code {row['response.code']}. \"\n",
        "        message += f\"Observation: {row['observation_name']}. Rule triggered: {row['rule_names']}.\"\n",
        "        messages.append(message)\n",
        "    return messages\n",
        "\n",
        "anomaly_messages = interpret_anomalies(df.loc[X_test.index], y_pred)\n",
        "\n",
        "#Output\n",
        "for msg in anomaly_messages[:5]:  #First 5\n",
        "    print(msg)\n"
      ],
      "metadata": {
        "id": "4gcKvmV-8nVn",
        "colab": {
          "base_uri": "https://localhost:8080/"
        },
        "outputId": "36eeee42-bef3-4b70-b81e-1331d28125b4"
      },
      "execution_count": 8,
      "outputs": [
        {
          "output_type": "stream",
          "name": "stdout",
          "text": [
            "Anomaly detected on 2024-04-26 00:30:00+00:00 from IP 147.161.131.1 (Country: AT). Using protocol HTTPS on port 443, the server responded with code 200. Observation: Adversary Infrastructure Interaction. Rule triggered: Suspicious Web Traffic.\n",
            "Anomaly detected on 2024-04-26 00:40:00+00:00 from IP 165.225.33.6 (Country: US). Using protocol HTTPS on port 443, the server responded with code 200. Observation: Adversary Infrastructure Interaction. Rule triggered: Suspicious Web Traffic.\n",
            "Anomaly detected on 2024-04-26 08:20:00+00:00 from IP 147.161.161.82 (Country: AE). Using protocol HTTPS on port 443, the server responded with code 200. Observation: Adversary Infrastructure Interaction. Rule triggered: Suspicious Web Traffic.\n",
            "Anomaly detected on 2024-04-26 01:10:00+00:00 from IP 165.225.26.101 (Country: DE). Using protocol HTTPS on port 443, the server responded with code 200. Observation: Adversary Infrastructure Interaction. Rule triggered: Suspicious Web Traffic.\n",
            "Anomaly detected on 2024-04-26 09:40:00+00:00 from IP 165.225.33.6 (Country: US). Using protocol HTTPS on port 443, the server responded with code 200. Observation: Adversary Infrastructure Interaction. Rule triggered: Suspicious Web Traffic.\n"
          ]
        }
      ]
    },
    {
      "cell_type": "markdown",
      "source": [
        "# Generating a 2nd Synthetic Database (Network Traffic) for our ML Model\n",
        "\n",
        "The initial dataset we analyzed, derived from actual network traffic, had highly uniform patterns. All detected anomalies followed a consistent protocol (HTTPS) on the standard port (443) with typical server responses (HTTP 200). This uniformity could potentially skew the machine learning model's ability to effectively generalize and identify true anomalies under less typical, more complex conditions.\n",
        "\n",
        "To address this, we are generating synthetic network traffic data to enhance the variability and complexity in our testing and simulation environments. This segment of code utilizes the Faker library to create detailed records that include timestamps, network traffic details, geolocation, session information, and detection details. Each record simulates various aspects of network interactions such as diverse IP addresses, multiple ports, different protocols, and potential security flags. By doing so, we aim to produce a large dataset (in this case, 1000 entries) without relying on actual network traffic logs, which might be sensitive or unavailable. This synthetic approach allows for better model training and validation by incorporating a wide range of hypothetical yet plausible scenarios.\n"
      ],
      "metadata": {
        "id": "AfjxrZHekXxx"
      }
    },
    {
      "cell_type": "code",
      "source": [
        "pip install faker"
      ],
      "metadata": {
        "id": "3WqYF2nG4RLj",
        "colab": {
          "base_uri": "https://localhost:8080/"
        },
        "outputId": "e7444a14-a569-49d3-f0ed-cf2756c05ac2"
      },
      "execution_count": 9,
      "outputs": [
        {
          "output_type": "stream",
          "name": "stdout",
          "text": [
            "Collecting faker\n",
            "  Downloading Faker-25.0.1-py3-none-any.whl (1.8 MB)\n",
            "\u001b[?25l     \u001b[90m━━━━━━━━━━━━━━━━━━━━━━━━━━━━━━━━━━━━━━━━\u001b[0m \u001b[32m0.0/1.8 MB\u001b[0m \u001b[31m?\u001b[0m eta \u001b[36m-:--:--\u001b[0m\r\u001b[2K     \u001b[91m━━━\u001b[0m\u001b[90m╺\u001b[0m\u001b[90m━━━━━━━━━━━━━━━━━━━━━━━━━━━━━━━━━━━━\u001b[0m \u001b[32m0.1/1.8 MB\u001b[0m \u001b[31m4.2 MB/s\u001b[0m eta \u001b[36m0:00:01\u001b[0m\r\u001b[2K     \u001b[91m━━━━━━━━━━━\u001b[0m\u001b[91m╸\u001b[0m\u001b[90m━━━━━━━━━━━━━━━━━━━━━━━━━━━━\u001b[0m \u001b[32m0.5/1.8 MB\u001b[0m \u001b[31m7.6 MB/s\u001b[0m eta \u001b[36m0:00:01\u001b[0m\r\u001b[2K     \u001b[91m━━━━━━━━━━━━━━━━━━━━━\u001b[0m\u001b[90m╺\u001b[0m\u001b[90m━━━━━━━━━━━━━━━━━━\u001b[0m \u001b[32m1.0/1.8 MB\u001b[0m \u001b[31m9.2 MB/s\u001b[0m eta \u001b[36m0:00:01\u001b[0m\r\u001b[2K     \u001b[91m━━━━━━━━━━━━━━━━━━━━━━━━━━━━━━━━\u001b[0m\u001b[90m╺\u001b[0m\u001b[90m━━━━━━━\u001b[0m \u001b[32m1.5/1.8 MB\u001b[0m \u001b[31m10.4 MB/s\u001b[0m eta \u001b[36m0:00:01\u001b[0m\r\u001b[2K     \u001b[91m━━━━━━━━━━━━━━━━━━━━━━━━━━━━━━━━━━━━━━━\u001b[0m\u001b[91m╸\u001b[0m \u001b[32m1.8/1.8 MB\u001b[0m \u001b[31m11.1 MB/s\u001b[0m eta \u001b[36m0:00:01\u001b[0m\r\u001b[2K     \u001b[90m━━━━━━━━━━━━━━━━━━━━━━━━━━━━━━━━━━━━━━━━\u001b[0m \u001b[32m1.8/1.8 MB\u001b[0m \u001b[31m10.0 MB/s\u001b[0m eta \u001b[36m0:00:00\u001b[0m\n",
            "\u001b[?25hRequirement already satisfied: python-dateutil>=2.4 in /usr/local/lib/python3.10/dist-packages (from faker) (2.8.2)\n",
            "Requirement already satisfied: six>=1.5 in /usr/local/lib/python3.10/dist-packages (from python-dateutil>=2.4->faker) (1.16.0)\n",
            "Installing collected packages: faker\n",
            "Successfully installed faker-25.0.1\n"
          ]
        }
      ]
    },
    {
      "cell_type": "code",
      "source": [
        "from faker import Faker\n",
        "import random\n",
        "from datetime import timedelta\n",
        "\n",
        "fake = Faker()\n",
        "\n",
        "def generate_data():\n",
        "    # Timestamps\n",
        "    start_time = fake.date_time_this_month()\n",
        "    end_time = start_time + timedelta(seconds=random.randint(10, 3600))  # session duration from 10 seconds to 1 hour\n",
        "    event_time = start_time - timedelta(seconds=random.randint(1, 60))  # event recorded up to 1 minute before session start\n",
        "\n",
        "    # Network Traffic Details\n",
        "    bytes_in = random.randint(1, 10000)\n",
        "    bytes_out = random.randint(1, 10000)\n",
        "    protocol = random.choice(['TCP', 'UDP'])\n",
        "    src_ip = fake.ipv4_public()\n",
        "    dst_ip = fake.ipv4_public()\n",
        "    src_port = random.randint(1024, 65535)\n",
        "    dst_port = random.randint(1024, 65535)\n",
        "\n",
        "    # Geolocation Information\n",
        "    src_ip_country = fake.country_code()\n",
        "    dst_ip_country = fake.country_code()\n",
        "\n",
        "    # Transaction Details\n",
        "    session_duration = (end_time - start_time).seconds\n",
        "    response_code = random.choice([200, 404, 500, 503])\n",
        "\n",
        "    # Detection Details\n",
        "    rule_triggered = random.choice(['None', 'Excessive Traffic', 'Suspicious Activity', 'Unauthorized Access'])\n",
        "    anomaly_score = random.uniform(0, 1)\n",
        "    detection_type = random.choice(['Normal', 'DDoS', 'Malware', 'Unauthorized Access'])\n",
        "    observation_details = fake.sentence()\n",
        "\n",
        "    # Metadata\n",
        "    device_id = fake.uuid4()\n",
        "    network_id = fake.uuid4()\n",
        "    user_agent = fake.user_agent()\n",
        "\n",
        "    # Features for Machine Learning (simple example of pre-computed features)\n",
        "    feature_vectors = {'mean_bytes_in': bytes_in / session_duration, 'mean_bytes_out': bytes_out / session_duration}\n",
        "\n",
        "    return {\n",
        "        'event_time': event_time,\n",
        "        'start_time': start_time,\n",
        "        'end_time': end_time,\n",
        "        'bytes_in': bytes_in,\n",
        "        'bytes_out': bytes_out,\n",
        "        'protocol': protocol,\n",
        "        'src_ip': src_ip,\n",
        "        'dst_ip': dst_ip,\n",
        "        'src_port': src_port,\n",
        "        'dst_port': dst_port,\n",
        "        'src_ip_country': src_ip_country,\n",
        "        'dst_ip_country': dst_ip_country,\n",
        "        'session_duration': session_duration,\n",
        "        'response_code': response_code,\n",
        "        'rule_triggered': rule_triggered,\n",
        "        'anomaly_score': anomaly_score,\n",
        "        'detection_type': detection_type,\n",
        "        'observation_details': observation_details,\n",
        "        'device_id': device_id,\n",
        "        'network_id': network_id,\n",
        "        'user_agent': user_agent,\n",
        "        'feature_vectors': str(feature_vectors)  # Convert dict to string to save in CSV\n",
        "    }\n",
        "\n",
        "# Generate 1000 rows of data\n",
        "data = [generate_data() for _ in range(1000)]\n",
        "\n",
        "# Convert list of dictionaries to a DataFrame\n",
        "df = pd.DataFrame(data)\n",
        "\n",
        "# Save the DataFrame to a CSV file\n",
        "df.to_csv('generated_network_traffic_data.csv', index=False)\n",
        "\n",
        "print(\"Data has been saved to 'generated_network_traffic_data.csv'.\")\n"
      ],
      "metadata": {
        "id": "niizpN1A9SUP",
        "colab": {
          "base_uri": "https://localhost:8080/"
        },
        "outputId": "e2014e22-487d-4add-9cc8-c9ab85002cbf"
      },
      "execution_count": 10,
      "outputs": [
        {
          "output_type": "stream",
          "name": "stdout",
          "text": [
            "Data has been saved to 'generated_network_traffic_data.csv'.\n"
          ]
        }
      ]
    },
    {
      "cell_type": "markdown",
      "source": [
        "###Cleaning synthetic Database"
      ],
      "metadata": {
        "id": "svferCEHbyEr"
      }
    },
    {
      "cell_type": "code",
      "source": [
        "# Initialize a StandardScaler object\n",
        "scaler = StandardScaler()\n",
        "\n",
        "# List of numerical columns to scale\n",
        "numerical_cols = ['bytes_in', 'bytes_out', 'session_duration', 'anomaly_score']\n",
        "\n",
        "# Apply scaling to the numerical columns\n",
        "df[numerical_cols] = scaler.fit_transform(df[numerical_cols])\n"
      ],
      "metadata": {
        "id": "6-CC_jDukVPd"
      },
      "execution_count": 11,
      "outputs": []
    },
    {
      "cell_type": "code",
      "source": [
        "# Calculate the IQR for each numerical column\n",
        "Q1 = df[numerical_cols].quantile(0.25)\n",
        "Q3 = df[numerical_cols].quantile(0.75)\n",
        "IQR = Q3 - Q1\n",
        "\n",
        "# Define the bounds for outliers\n",
        "lower_bound = Q1 - 1.5 * IQR\n",
        "upper_bound = Q3 + 1.5 * IQR\n",
        "\n",
        "# Filter out the outliers by keeping only the values that are within the bounds\n",
        "df = df[~((df[numerical_cols] < lower_bound) | (df[numerical_cols] > upper_bound)).any(axis=1)]\n"
      ],
      "metadata": {
        "id": "SH8b1NFnlLM2"
      },
      "execution_count": 12,
      "outputs": []
    },
    {
      "cell_type": "markdown",
      "source": [
        "# Anomaly Detection\n",
        "The code snippet sets up a machine learning pipeline using a RandomForestClassifier optimized with GridSearchCV for anomaly detection. It involves preparing data, encoding categorical variables, splitting into training and testing sets, and defining a parameter grid for tuning the RandomForest parameters like the number of trees and tree depth. The model is trained using 5-fold cross-validation to identify the best parameters, and performance is evaluated on a test set using metrics like precision and recall, output via a classification report.\n",
        "\n",
        "\n",
        "\n",
        "\n",
        "\n",
        "\n",
        "\n"
      ],
      "metadata": {
        "id": "pljNKZr3b0jY"
      }
    },
    {
      "cell_type": "code",
      "source": [
        "from sklearn.ensemble import RandomForestClassifier\n",
        "from sklearn.model_selection import GridSearchCV\n",
        "\n",
        "# Features and labels\n",
        "features = ['bytes_in', 'bytes_out', 'session_duration', 'src_ip_country', 'dst_ip_country', 'protocol']\n",
        "X = df[features].copy()\n",
        "y = df['is_anomaly']\n",
        "\n",
        "# Encode categorical data\n",
        "le = LabelEncoder()\n",
        "for col in X.select_dtypes(include=['object']).columns:\n",
        "    X[col] = le.fit_transform(X[col])\n",
        "\n",
        "# Split the data into training and testing sets\n",
        "X_train, X_test, y_train, y_test = train_test_split(X, y, test_size=0.3, random_state=42)\n",
        "\n",
        "# Initialize the Random Forest classifier\n",
        "rf = RandomForestClassifier(random_state=42)\n",
        "\n",
        "# Parameters for Grid Search\n",
        "param_grid = {\n",
        "    'n_estimators': [50, 100, 200],\n",
        "    'max_depth': [10, 20, 30, None],\n",
        "    'min_samples_split': [2, 5, 10],\n",
        "    'min_samples_leaf': [1, 2, 4]\n",
        "}\n",
        "\n",
        "# Grid Search with Cross-Validation\n",
        "grid_search = GridSearchCV(estimator=rf, param_grid=param_grid, cv=5, verbose=2, n_jobs=-1)\n",
        "grid_search.fit(X_train, y_train)\n",
        "\n",
        "# Best model\n",
        "best_rf = grid_search.best_estimator_\n",
        "\n",
        "# Predictions and evaluation\n",
        "y_pred = best_rf.predict(X_test)\n",
        "print(classification_report(y_test, y_pred))\n"
      ],
      "metadata": {
        "id": "VAWBIWvCJkpo",
        "colab": {
          "base_uri": "https://localhost:8080/"
        },
        "outputId": "d153d9ba-e43c-49ff-9c26-5316c4a1eeb8"
      },
      "execution_count": null,
      "outputs": [
        {
          "output_type": "stream",
          "name": "stdout",
          "text": [
            "Fitting 5 folds for each of 108 candidates, totalling 540 fits\n",
            "              precision    recall  f1-score   support\n",
            "\n",
            "           0       0.64      0.54      0.59       182\n",
            "           1       0.43      0.53      0.48       118\n",
            "\n",
            "    accuracy                           0.54       300\n",
            "   macro avg       0.53      0.54      0.53       300\n",
            "weighted avg       0.56      0.54      0.54       300\n",
            "\n"
          ]
        }
      ]
    },
    {
      "cell_type": "markdown",
      "source": [
        "The classification report shows the performance of a model optimized with GridSearchCV, revealing modest accuracy and F1-scores for a binary classification task. The model has higher precision for class '0' (0.64) compared to class '1' (0.43), indicating it's more reliable at predicting non-anomalous cases. Overall metrics like macro and weighted averages hover around 0.53-0.56, suggesting moderate effectiveness. This indicates potential areas for improvement in model configuration or the need for more discriminative features."
      ],
      "metadata": {
        "id": "v6hnwBQDOHmK"
      }
    },
    {
      "cell_type": "markdown",
      "source": [
        "# Descriptive Alerts for Detected Anomalies"
      ],
      "metadata": {
        "id": "q_9zSkrIOh4Y"
      }
    },
    {
      "cell_type": "code",
      "source": [
        "def interpret_anomalies(test_data, predictions):\n",
        "    test_data['anomaly'] = predictions\n",
        "\n",
        "    anomalies = test_data[test_data['anomaly'] == 1]\n",
        "\n",
        "    messages = []\n",
        "    for index, row in anomalies.iterrows():\n",
        "        message = f\"Anomaly detected with protocol {row['protocol']} from {row['src_ip']} (Country Code: {row['src_ip_country_code']}) \"\n",
        "        message += f\"to {row['dst_ip']} on destination port {row['dst_port']}. \"\n",
        "        message += f\"Data transfer included {row['bytes_in']} bytes in and {row['bytes_out']} bytes out. \"\n",
        "        message += f\"Response code: {row['response.code']}. Trigger: {row['source.name']}.\"\n",
        "        messages.append(message)\n",
        "\n",
        "    test_data.drop(columns=['anomaly'], inplace=True)\n",
        "\n",
        "    return messages\n",
        "\n",
        "# Example usage:\n",
        "# Assuming X_test is a DataFrame that includes the necessary columns and y_pred are the corresponding predictions\n",
        "anomaly_messages = interpret_anomalies(X_test, y_pred)\n",
        "\n",
        "# To display the first 5 anomaly messages, if any:\n",
        "for msg in anomaly_messages[:5]:\n",
        "    print(msg)\n"
      ],
      "metadata": {
        "id": "hvKaqIa-lSHR",
        "colab": {
          "base_uri": "https://localhost:8080/"
        },
        "outputId": "5b7cb5a5-e92e-4be6-aec0-97d6a9016c79"
      },
      "execution_count": 20,
      "outputs": [
        {
          "output_type": "stream",
          "name": "stdout",
          "text": [
            "Anomaly detected with protocol 0.0 from 4.0 (Country Code: 1.0) to 0.0 on destination port 443.0. Data transfer included -0.28830686443256337 bytes in and -0.2863941376146582 bytes out. Response code: 200.0. Trigger: 0.0.\n",
            "Anomaly detected with protocol 0.0 from 12.0 (Country Code: 6.0) to 0.0 on destination port 443.0. Data transfer included -0.28738604178635246 bytes in and -0.3119840276134893 bytes out. Response code: 200.0. Trigger: 0.0.\n",
            "Anomaly detected with protocol 0.0 from 5.0 (Country Code: 0.0) to 0.0 on destination port 443.0. Data transfer included -0.28848987008694926 bytes in and -0.28598545386774815 bytes out. Response code: 200.0. Trigger: 0.0.\n",
            "Anomaly detected with protocol 0.0 from 11.0 (Country Code: 3.0) to 0.0 on destination port 443.0. Data transfer included -0.28715426681509854 bytes in and -0.273449865861564 bytes out. Response code: 200.0. Trigger: 0.0.\n",
            "Anomaly detected with protocol 0.0 from 12.0 (Country Code: 6.0) to 0.0 on destination port 443.0. Data transfer included -0.28762747404807526 bytes in and -0.28001238372060083 bytes out. Response code: 200.0. Trigger: 0.0.\n"
          ]
        }
      ]
    },
    {
      "cell_type": "markdown",
      "source": [
        "### Feature Importance\n",
        "This code segment details the steps involved in preparing a dataset for anomaly detection using a decision tree classifier. It begins by loading network traffic data from a CSV file and creating a binary target variable based on an 'anomaly_score', distinguishing normal from anomalous traffic. It then specifies the features to be used in the model, focusing on network traffic metrics and categorical data related to protocol and geographic location of IP addresses. The categorical features are encoded into numeric formats using a Label Encoder to make them suitable for modeling. Finally, the dataset is divided into training and testing subsets, ensuring a balanced approach to model training and evaluation. This process is crucial for building a robust machine learning model capable of accurately detecting network anomalies."
      ],
      "metadata": {
        "id": "gJi7Y_l24dpT"
      }
    },
    {
      "cell_type": "code",
      "source": [
        "from sklearn.model_selection import train_test_split\n",
        "from sklearn.preprocessing import LabelEncoder\n",
        "from sklearn.tree import DecisionTreeClassifier\n",
        "\n",
        "# Assuming 'anomaly_score' is used as a label for simplicity; adjust as necessary based on your actual labeling logic\n",
        "df['is_anomaly'] = (df['anomaly_score'] > 0.5).astype(int)\n",
        "\n",
        "# Define your features and target variable\n",
        "features = ['bytes_in', 'bytes_out', 'session_duration', 'src_port', 'dst_port', 'protocol', 'src_ip_country', 'dst_ip_country']\n",
        "X = df[features].copy()\n",
        "y = df['is_anomaly']\n",
        "\n",
        "# Encode categorical variables\n",
        "le = LabelEncoder()\n",
        "X['protocol'] = le.fit_transform(X['protocol'])\n",
        "X['src_ip_country'] = le.fit_transform(X['src_ip_country'])\n",
        "X['dst_ip_country'] = le.fit_transform(X['dst_ip_country'])\n",
        "\n",
        "# Split data into training and test sets\n",
        "X_train, X_test, y_train, y_test = train_test_split(X, y, test_size=0.3, random_state=42)\n"
      ],
      "metadata": {
        "id": "hQ2wv2vNlUiW"
      },
      "execution_count": 22,
      "outputs": []
    },
    {
      "cell_type": "markdown",
      "source": [
        "This code segment focuses on training a decision tree classifier on the preprocessed network traffic data and examining the importance of each feature in the model. After training the model using the designated training set, it calculates the importance of each feature in predicting anomalies. The feature importances are extracted, sorted, and displayed in a pandas DataFrame, which provides a clear view of which features most significantly impact the model's decisions. This insight is valuable for refining the model and focusing on the most informative attributes, potentially improving model performance and efficiency in detecting anomalies."
      ],
      "metadata": {
        "id": "5ulJ8ZU0O_yr"
      }
    },
    {
      "cell_type": "code",
      "source": [
        "# Train a decision tree classifier\n",
        "clf = DecisionTreeClassifier(random_state=42)\n",
        "clf.fit(X_train, y_train)\n",
        "\n",
        "# Get feature importances\n",
        "importances = clf.feature_importances_\n",
        "\n",
        "# Print the feature importances\n",
        "feature_names = X.columns\n",
        "feature_imports = pd.DataFrame(sorted(zip(feature_names, importances), key=lambda x: x[1], reverse=True),\n",
        "                               columns=['Feature', 'Importance'])\n",
        "\n",
        "print(feature_imports)\n"
      ],
      "metadata": {
        "id": "LgGM_fqcH-qt",
        "colab": {
          "base_uri": "https://localhost:8080/"
        },
        "outputId": "ea586ccd-bc50-4aec-b16f-69b88cca368c"
      },
      "execution_count": 23,
      "outputs": [
        {
          "output_type": "stream",
          "name": "stdout",
          "text": [
            "            Feature  Importance\n",
            "0         bytes_out    0.179413\n",
            "1          bytes_in    0.170836\n",
            "2          src_port    0.141066\n",
            "3    dst_ip_country    0.140019\n",
            "4          dst_port    0.125473\n",
            "5  session_duration    0.119370\n",
            "6    src_ip_country    0.111437\n",
            "7          protocol    0.012386\n"
          ]
        }
      ]
    },
    {
      "cell_type": "markdown",
      "source": [
        "This table lists the features of our machine learning model along with their importance values, which measure each feature's contribution to the model’s prediction accuracy. The values are normalized, summing to 1, indicating the relative impact of each feature:\n",
        "\n",
        "\n",
        "*   bytes_out, bytes_in: Major predictors based on data transfer volumes.\n",
        "*   dst_port, src_port: Essential for understanding network traffic.\n",
        "*   src_ip_country, dst_ip_country: Indicate traffic’s geographical aspects.\n",
        "*   session_duration: Moderately influential on session analysis.\n",
        "*   protocol: Least impactful, showing the type of protocol used.\n",
        "\n",
        "This prioritization aids in refining the model and enhancing data security strategies."
      ],
      "metadata": {
        "id": "CfziChhMQKtW"
      }
    },
    {
      "cell_type": "code",
      "source": [
        "import matplotlib.pyplot as plt\n",
        "import seaborn as sns\n",
        "\n",
        "# Visualize the feature importances\n",
        "plt.figure(figsize=(6, 4))\n",
        "sns.barplot(x='Importance', y='Feature', data=feature_imports)\n",
        "plt.title('Feature Importance in Detecting Cyber Threats')\n",
        "plt.xlabel('Importance')\n",
        "plt.ylabel('Features')\n",
        "plt.show()\n"
      ],
      "metadata": {
        "id": "elA039r3X35r",
        "colab": {
          "base_uri": "https://localhost:8080/",
          "height": 415
        },
        "outputId": "33c0ffa7-e078-45e1-8668-58a03c509a8d"
      },
      "execution_count": null,
      "outputs": [
        {
          "output_type": "display_data",
          "data": {
            "text/plain": [
              "<Figure size 600x400 with 1 Axes>"
            ],
            "image/png": "[encoded data removed]"
          },
          "metadata": {}
        }
      ]
    },
    {
      "cell_type": "markdown",
      "source": [
        "# Additional Security Analysis: unusual access times, high data transfers, unusual locations and other insights\n",
        "This code segment performs a comprehensive security analysis on network traffic and user behavior by identifying unusual access times, high data transfer volumes, unusual geographical locations, extreme session durations, and common detection types. Each analysis aims to flag potential security risks such as off-hours access, data exfiltration attempts, access from rare locations, abnormal session activities, and prevalent security alerts, providing insights essential for enhancing cybersecurity measures."
      ],
      "metadata": {
        "id": "HXPuCH3tcJdc"
      }
    },
    {
      "cell_type": "code",
      "source": [
        "# Convert 'event_time' to datetime format if not already\n",
        "df['event_time'] = pd.to_datetime(df['event_time'])\n",
        "df['start_time'] = pd.to_datetime(df['start_time'])\n",
        "df['end_time'] = pd.to_datetime(df['end_time'])\n"
      ],
      "metadata": {
        "id": "MkQ09VnwYHd-"
      },
      "execution_count": 24,
      "outputs": []
    },
    {
      "cell_type": "code",
      "source": [
        "# Analyze unusual access times\n",
        "# Assuming \"usual\" business hours are from 8:00 to 18:00\n",
        "df['hour_of_day'] = df['event_time'].dt.hour\n",
        "unusual_times = df[(df['hour_of_day'] < 5) | (df['hour_of_day'] > 17)]\n",
        "print(f\"Unusual access times count: {unusual_times.shape[0]}\")\n",
        "\n",
        "# Analyze high data transfer volumes\n",
        "# Assuming high volume is anything above the 95th percentile for both bytes_in and bytes_out\n",
        "high_transfer = df[(df['bytes_in'] > df['bytes_in'].quantile(0.99)) | (df['bytes_out'] > df['bytes_out'].quantile(0.95))]\n",
        "print(f\"High data transfer volumes count: {high_transfer.shape[0]}\")\n",
        "\n",
        "# Analyze unusual locations\n",
        "# Assuming unusual locations can be detected by infrequent country occurrences\n",
        "country_counts = df['src_ip_country'].value_counts()\n",
        "unusual_locations = df[df['src_ip_country'].isin(country_counts[country_counts < 5].index)]\n",
        "print(f\"Unusual locations count: {unusual_locations.shape[0]}\")\n",
        "\n",
        "# Other insights\n",
        "# Detect very short or very long sessions\n",
        "df['session_duration'] = (df['end_time'] - df['start_time']).dt.total_seconds()\n",
        "short_sessions = df[df['session_duration'] < df['session_duration'].quantile(0.05)]\n",
        "long_sessions = df[df['session_duration'] > df['session_duration'].quantile(0.95)]\n",
        "print(f\"Very short sessions count: {short_sessions.shape[0]}\")\n",
        "print(f\"Very long sessions count: {long_sessions.shape[0]}\")\n",
        "\n",
        "# Common detection types\n",
        "common_detections = df['detection_type'].value_counts()\n",
        "print(f\"Common detection types: \\n{common_detections}\")\n"
      ],
      "metadata": {
        "id": "n6bfOBbjIfjz",
        "colab": {
          "base_uri": "https://localhost:8080/"
        },
        "outputId": "c7eb7ba2-6356-412a-eb07-53caa55ab04a"
      },
      "execution_count": 25,
      "outputs": [
        {
          "output_type": "stream",
          "name": "stdout",
          "text": [
            "Unusual access times count: 440\n",
            "High data transfer volumes count: 59\n",
            "Unusual locations count: 210\n",
            "Very short sessions count: 50\n",
            "Very long sessions count: 50\n",
            "Common detection types: \n",
            "detection_type\n",
            "DDoS                   274\n",
            "Malware                247\n",
            "Normal                 245\n",
            "Unauthorized Access    234\n",
            "Name: count, dtype: int64\n"
          ]
        }
      ]
    },
    {
      "cell_type": "markdown",
      "source": [
        "# Enhanced Security Analysis with Detailed Metrics\n",
        "This enhanced code segment delves deeper into security metrics by pinpointing specific anomalies and their magnitudes. It identifies the most unusual access hours, highest data transfer volumes, and details the occurrences of access from rare locations. Additionally, it continues to assess extreme session durations and prevalent detection types, providing a comprehensive and detailed overview of potential security threats and anomalies, crucial for targeted interventions and improved security strategies."
      ],
      "metadata": {
        "id": "2F0DgWVlRobf"
      }
    },
    {
      "cell_type": "code",
      "source": [
        "# Analyze unusual access times\n",
        "# Assuming \"usual\" business hours are from 8:00 to 18:00\n",
        "unusual_times = df[(df['hour_of_day'] < 5) | (df['hour_of_day'] > 17)]\n",
        "unusual_time_counts = unusual_times['hour_of_day'].value_counts()\n",
        "most_unusual_time = unusual_time_counts.idxmax()\n",
        "print(f\"Most unusual access time: {most_unusual_time} with {unusual_time_counts.max()} requests\")\n",
        "\n",
        "# Analyze high data transfer volumes\n",
        "# Define high volume as anything above the 95th percentile for both bytes_in and bytes_out\n",
        "high_transfer = df[(df['bytes_in'] > df['bytes_in'].quantile(0.95)) | (df['bytes_out'] > df['bytes_out'].quantile(0.95))]\n",
        "high_transfer_bytes_in = high_transfer['bytes_in'].max()\n",
        "high_transfer_bytes_out = high_transfer['bytes_out'].max()\n",
        "print(f\"Highest data transfer volumes: {high_transfer_bytes_in} bytes in, {high_transfer_bytes_out} bytes out\")\n",
        "\n",
        "# Analyze unusual locations\n",
        "# Assuming unusual locations can be detected by infrequent country occurrences\n",
        "country_counts = df['src_ip_country'].value_counts()\n",
        "unusual_locations = df[df['src_ip_country'].isin(country_counts[country_counts < 4].index)]\n",
        "unusual_location_details = unusual_locations['src_ip_country'].value_counts()\n",
        "print(f\"Unusual locations count: {unusual_location_details.to_dict()}\")\n",
        "\n",
        "# Other insights\n",
        "# Detect very short or very long sessions\n",
        "short_sessions = df[df['session_duration'] < df['session_duration'].quantile(0.05)]\n",
        "long_sessions = df[df['session_duration'] > df['session_duration'].quantile(0.95)]\n",
        "print(f\"Very short sessions count: {short_sessions.shape[0]}\")\n",
        "print(f\"Very long sessions count: {long_sessions.shape[0]}\")\n",
        "\n",
        "# Common detection types\n",
        "common_detections = df['detection_type'].value_counts()\n",
        "print(f\"Common detection types: \\n{common_detections}\")\n"
      ],
      "metadata": {
        "id": "ZJoZ-GFQhZ7K",
        "colab": {
          "base_uri": "https://localhost:8080/"
        },
        "outputId": "baa5cbc7-e408-4794-8170-275471bde302"
      },
      "execution_count": 26,
      "outputs": [
        {
          "output_type": "stream",
          "name": "stdout",
          "text": [
            "Most unusual access time: 1 with 50 requests\n",
            "Highest data transfer volumes: 9982 bytes in, 9996 bytes out\n",
            "Unusual locations count: {'IQ': 3, 'BJ': 3, 'ES': 3, 'HR': 3, 'SB': 3, 'PL': 3, 'ME': 3, 'LU': 3, 'SG': 3, 'FJ': 3, 'DK': 3, 'BN': 3, 'IE': 3, 'VA': 3, 'VE': 3, 'AZ': 3, 'BO': 3, 'MW': 3, 'NP': 3, 'ID': 3, 'LC': 3, 'RU': 3, 'BG': 2, 'NI': 2, 'KG': 2, 'GB': 2, 'SD': 2, 'MV': 2, 'DZ': 2, 'ET': 2, 'SY': 2, 'TL': 2, 'TM': 2, 'FI': 2, 'NO': 2, 'SO': 2, 'VC': 2, 'ZA': 1, 'GR': 1, 'TD': 1, 'CD': 1, 'FR': 1, 'KW': 1, 'PT': 1, 'DO': 1, 'UY': 1, 'HN': 1}\n",
            "Very short sessions count: 50\n",
            "Very long sessions count: 50\n",
            "Common detection types: \n",
            "detection_type\n",
            "DDoS                   274\n",
            "Malware                247\n",
            "Normal                 245\n",
            "Unauthorized Access    234\n",
            "Name: count, dtype: int64\n"
          ]
        }
      ]
    },
    {
      "cell_type": "markdown",
      "source": [
        "# Mitigation\n",
        "This function dynamically assigns mitigation recommendations based on the detected threat type from network activity logs. It categorizes threats into five types—DDoS, Malware, Unauthorized Access, Data Exfiltration, and Normal—and prescribes specific remedial actions for each. These recommendations range from increasing network defenses for DDoS attacks to restoring systems from backups in the case of malware infection. For normal activities, no actions are recommended unless other systems flag an issue. This function ensures that appropriate, tailored responses are automated for various security incidents, enhancing our system's resilience against potential threats."
      ],
      "metadata": {
        "id": "CJlkTiVMcie7"
      }
    },
    {
      "cell_type": "code",
      "source": [
        "def mitigation_recommendations(row):\n",
        "    recommendations = {\n",
        "        'DDoS': \"Increase network bandwidth, apply rate limiting, and configure DDoS protection services like Cloudflare or AWS Shield.\",\n",
        "        'Malware': \"Isolate affected systems, perform a full malware scan, update antivirus signatures, and restore systems from known good backups.\",\n",
        "        'Unauthorized Access': \"Revoke access immediately, change credentials, and review all recent actions performed by the affected account.\",\n",
        "        'Data Exfiltration': \"Quarantine affected systems, change credentials, and review data access logs for any unauthorized information access.\",\n",
        "        'Normal': \"No action needed unless flagged by other monitoring tools.\"\n",
        "    }\n",
        "\n",
        "    # Detect the type of anomaly and suggest appropriate actions\n",
        "    detection_type = row['detection_type']\n",
        "    return recommendations.get(detection_type, \"Check the system for potential new types of threats not covered in the existing rules.\")"
      ],
      "metadata": {
        "id": "HUGNG9BLYF4j"
      },
      "execution_count": 27,
      "outputs": []
    },
    {
      "cell_type": "code",
      "source": [
        "# Apply the mitigation recommendations function to each row in the DataFrame\n",
        "df['mitigation_recommendation'] = df.apply(mitigation_recommendations, axis=1)\n",
        "\n",
        "# Print the first few entries to review the recommendations\n",
        "print(df[['detection_type', 'mitigation_recommendation']].head(15))\n"
      ],
      "metadata": {
        "id": "4f1a3QyzfUlx",
        "colab": {
          "base_uri": "https://localhost:8080/"
        },
        "outputId": "51448ddc-4413-40b7-acd5-37bd33e9ed31"
      },
      "execution_count": 28,
      "outputs": [
        {
          "output_type": "stream",
          "name": "stdout",
          "text": [
            "         detection_type                          mitigation_recommendation\n",
            "0                Normal  No action needed unless flagged by other monit...\n",
            "1                  DDoS  Increase network bandwidth, apply rate limitin...\n",
            "2                  DDoS  Increase network bandwidth, apply rate limitin...\n",
            "3               Malware  Isolate affected systems, perform a full malwa...\n",
            "4   Unauthorized Access  Revoke access immediately, change credentials,...\n",
            "5   Unauthorized Access  Revoke access immediately, change credentials,...\n",
            "6                  DDoS  Increase network bandwidth, apply rate limitin...\n",
            "7                  DDoS  Increase network bandwidth, apply rate limitin...\n",
            "8                  DDoS  Increase network bandwidth, apply rate limitin...\n",
            "9                Normal  No action needed unless flagged by other monit...\n",
            "10                 DDoS  Increase network bandwidth, apply rate limitin...\n",
            "11              Malware  Isolate affected systems, perform a full malwa...\n",
            "12              Malware  Isolate affected systems, perform a full malwa...\n",
            "13                 DDoS  Increase network bandwidth, apply rate limitin...\n",
            "14                 DDoS  Increase network bandwidth, apply rate limitin...\n"
          ]
        }
      ]
    },
    {
      "cell_type": "code",
      "source": [
        "sample_recommendations = df[['detection_type', 'mitigation_recommendation']].drop_duplicates()\n",
        "print(sample_recommendations)"
      ],
      "metadata": {
        "id": "4hVwZ5TMfdeR",
        "colab": {
          "base_uri": "https://localhost:8080/"
        },
        "outputId": "4856c660-a079-49ab-bae5-19b0613b352e"
      },
      "execution_count": null,
      "outputs": [
        {
          "output_type": "stream",
          "name": "stdout",
          "text": [
            "         detection_type                          mitigation_recommendation\n",
            "0                Normal  No action needed unless flagged by other monit...\n",
            "1   Unauthorized Access  Revoke access immediately, change credentials,...\n",
            "2                  DDoS  Increase network bandwidth, apply rate limitin...\n",
            "15              Malware  Isolate affected systems, perform a full malwa...\n"
          ]
        }
      ]
    },
    {
      "cell_type": "markdown",
      "source": [
        "##Transaction Monitoring"
      ],
      "metadata": {
        "id": "WN_veS3OTyUu"
      }
    },
    {
      "cell_type": "code",
      "source": [
        "from faker import Faker\n",
        "import pandas as pd\n",
        "import numpy as np\n",
        "from datetime import datetime, timedelta\n",
        "\n",
        "fake = Faker()\n",
        "\n",
        "def generate_transactions(num_transactions):\n",
        "    data = []\n",
        "    for _ in range(num_transactions):\n",
        "        customer_id = np.random.randint(1000, 9999)\n",
        "        transaction_amount = np.round(np.random.exponential(scale=200.0), 2)  # Exponential distribution for amount\n",
        "        transaction_time = fake.date_time_between(start_date='-1y', end_date='now')\n",
        "        location_country = fake.country_code(representation=\"alpha-2\")  # Country code\n",
        "        is_fraudulent = np.random.choice([0, 1], p=[0.95, 0.05])  # 5% chance of being a fraudulent transaction\n",
        "\n",
        "        data.append({\n",
        "            'customer_id': customer_id,\n",
        "            'transaction_amount': transaction_amount,\n",
        "            'transaction_time': transaction_time,\n",
        "            'location_country': location_country,\n",
        "            'is_fraudulent': is_fraudulent\n",
        "        })\n",
        "\n",
        "    return pd.DataFrame(data)\n",
        "\n",
        "# Generate 10000 transactions\n",
        "df_transactions = generate_transactions(10000)\n",
        "df_transactions.to_csv('synthetic_transactionss.csv', index=False)\n"
      ],
      "metadata": {
        "id": "6bah9GV1U_2W"
      },
      "execution_count": 29,
      "outputs": []
    },
    {
      "cell_type": "code",
      "source": [
        "import pandas as pd\n",
        "\n",
        "# Load the data\n",
        "df = pd.read_csv('synthetic_transactionss.csv')\n",
        "\n",
        "# Convert transaction_time to a proper datetime format\n",
        "df['transaction_time'] = pd.to_datetime(df['transaction_time'])\n",
        "\n",
        "# Sorting data by transaction time for any time series analysis later on\n",
        "df.sort_values('transaction_time', inplace=True)\n",
        "\n",
        "# Check for any missing values and fill or drop them\n",
        "df.dropna(inplace=True)  # Assuming dropping for simplicity, but you might want to fill depending on the case\n",
        "\n",
        "# Save the cleaned data (optional)\n",
        "df.to_csv('cleaned_transactions.csv', index=False)\n"
      ],
      "metadata": {
        "id": "ojg_R_Y9Wt1B"
      },
      "execution_count": 30,
      "outputs": []
    },
    {
      "cell_type": "code",
      "source": [
        "from sklearn.model_selection import train_test_split\n",
        "from sklearn.linear_model import LogisticRegression\n",
        "from sklearn.preprocessing import LabelEncoder, StandardScaler\n",
        "from sklearn.metrics import classification_report\n",
        "from imblearn.over_sampling import SMOTE\n",
        "from imblearn.pipeline import make_pipeline\n",
        "\n",
        "# Load the cleaned data\n",
        "df = pd.read_csv('cleaned_transactions.csv')\n",
        "\n",
        "# Explicitly convert transaction_time to datetime format and extract features\n",
        "df['transaction_time'] = pd.to_datetime(df['transaction_time'])\n",
        "df['hour_of_day'] = df['transaction_time'].dt.hour  # Extract hour of day\n",
        "\n",
        "# Encode categorical data\n",
        "label_encoder = LabelEncoder()\n",
        "df['location_country'] = label_encoder.fit_transform(df['location_country'])  # Encode country codes\n",
        "\n",
        "# Prepare features and labels\n",
        "X = df[['transaction_amount', 'location_country', 'hour_of_day']]  # Simplified features\n",
        "y = df['is_fraudulent']\n",
        "\n",
        "# Split the dataset into training and testing sets\n",
        "X_train, X_test, y_train, y_test = train_test_split(X, y, test_size=0.2, random_state=42)\n",
        "\n",
        "# Create a pipeline that includes scaling, SMOTE, and logistic regression\n",
        "pipeline = make_pipeline(\n",
        "    StandardScaler(),\n",
        "    SMOTE(random_state=42),\n",
        "    LogisticRegression(class_weight='balanced', max_iter=1000)\n",
        ")\n",
        "\n",
        "# Train the model using the pipeline\n",
        "pipeline.fit(X_train, y_train)\n",
        "predictions = pipeline.predict(X_test)\n",
        "\n",
        "# Output a classification report\n",
        "print(classification_report(y_test, predictions))\n",
        "\n",
        "# Generate user-friendly outputs\n",
        "results = pd.DataFrame({\n",
        "    'Predicted': predictions,\n",
        "    'Actual': y_test,\n",
        "    'Transaction Amount': X_test['transaction_amount'],\n",
        "    'Country': label_encoder.inverse_transform(X_test['location_country']),\n",
        "    'Hour of Day': X_test['hour_of_day']\n",
        "})\n",
        "\n",
        "count = 0\n",
        "for index, row in results.iterrows():\n",
        "    if row['Predicted'] == 1:\n",
        "        print(f\"Fraud Alert: Suspicious transaction detected!\")\n",
        "        print(f\"Details: Transaction from {row['Country']} at {row['Hour of Day']} o'clock.\")\n",
        "        print(f\"Recommendation: Verify the transaction manually, especially the amount and timing.\")\n",
        "        print(\"------------------------------------------------------------\")\n",
        "        print()\n",
        "        count += 1\n",
        "        if count >= 7:\n",
        "            break\n"
      ],
      "metadata": {
        "colab": {
          "base_uri": "https://localhost:8080/"
        },
        "id": "z6iKe7YDWxIe",
        "outputId": "197feece-eab1-492e-b7ee-7e5b880d0693"
      },
      "execution_count": 35,
      "outputs": [
        {
          "output_type": "stream",
          "name": "stdout",
          "text": [
            "              precision    recall  f1-score   support\n",
            "\n",
            "           0       0.95      0.51      0.66      1885\n",
            "           1       0.06      0.54      0.10       105\n",
            "\n",
            "    accuracy                           0.51      1990\n",
            "   macro avg       0.51      0.53      0.38      1990\n",
            "weighted avg       0.91      0.51      0.63      1990\n",
            "\n",
            "Fraud Alert: Suspicious transaction detected!\n",
            "Details: Transaction from BN at 19 o'clock.\n",
            "Recommendation: Verify the transaction manually, especially the amount and timing.\n",
            "------------------------------------------------------------\n",
            "\n",
            "Fraud Alert: Suspicious transaction detected!\n",
            "Details: Transaction from AT at 20 o'clock.\n",
            "Recommendation: Verify the transaction manually, especially the amount and timing.\n",
            "------------------------------------------------------------\n",
            "\n",
            "Fraud Alert: Suspicious transaction detected!\n",
            "Details: Transaction from BZ at 0 o'clock.\n",
            "Recommendation: Verify the transaction manually, especially the amount and timing.\n",
            "------------------------------------------------------------\n",
            "\n",
            "Fraud Alert: Suspicious transaction detected!\n",
            "Details: Transaction from HN at 3 o'clock.\n",
            "Recommendation: Verify the transaction manually, especially the amount and timing.\n",
            "------------------------------------------------------------\n",
            "\n",
            "Fraud Alert: Suspicious transaction detected!\n",
            "Details: Transaction from PL at 3 o'clock.\n",
            "Recommendation: Verify the transaction manually, especially the amount and timing.\n",
            "------------------------------------------------------------\n",
            "\n",
            "Fraud Alert: Suspicious transaction detected!\n",
            "Details: Transaction from BE at 7 o'clock.\n",
            "Recommendation: Verify the transaction manually, especially the amount and timing.\n",
            "------------------------------------------------------------\n",
            "\n",
            "Fraud Alert: Suspicious transaction detected!\n",
            "Details: Transaction from EC at 11 o'clock.\n",
            "Recommendation: Verify the transaction manually, especially the amount and timing.\n",
            "------------------------------------------------------------\n",
            "\n"
          ]
        }
      ]
    },
    {
      "cell_type": "code",
      "source": [
        "import pandas as pd\n",
        "from sklearn.model_selection import train_test_split\n",
        "from sklearn.linear_model import LogisticRegression\n",
        "from sklearn.preprocessing import LabelEncoder, StandardScaler\n",
        "from sklearn.metrics import classification_report\n",
        "\n",
        "# Load the cleaned data\n",
        "df = pd.read_csv('cleaned_transactions.csv')\n",
        "\n",
        "# Ensure the transaction time is in the correct datetime format\n",
        "df['transaction_time'] = pd.to_datetime(df['transaction_time'])\n",
        "df['hour_of_day'] = df['transaction_time'].dt.hour  # Extract hour of day for analysis\n",
        "\n",
        "# Encode and scale features\n",
        "label_encoder = LabelEncoder()\n",
        "df['location_country'] = label_encoder.fit_transform(df['location_country'])\n",
        "scaler = StandardScaler()\n",
        "df['transaction_amount'] = scaler.fit_transform(df[['transaction_amount']])\n",
        "\n",
        "# Prepare features and labels\n",
        "X = df[['customer_id', 'transaction_amount', 'location_country', 'hour_of_day']]\n",
        "y = df['is_fraudulent']\n",
        "\n",
        "# Split the dataset into training and testing sets\n",
        "X_train, X_test, y_train, y_test = train_test_split(X, y, test_size=0.2, random_state=42)\n",
        "\n",
        "# Train the logistic regression model\n",
        "model = LogisticRegression()\n",
        "model.fit(X_train, y_train)\n",
        "predictions = model.predict(X_test)\n",
        "\n",
        "# Output a classification report\n",
        "print(classification_report(y_test, predictions))\n",
        "\n",
        "# Prepare user-friendly output\n",
        "results = pd.DataFrame({\n",
        "    'Predicted': predictions,\n",
        "    'Actual': y_test,\n",
        "    'Transaction Amount': X_test['transaction_amount'],\n",
        "    'Country': label_encoder.inverse_transform(X_test['location_country']),\n",
        "    'Hour of Day': X_test['hour_of_day']\n",
        "})\n",
        "\n",
        "# Detailed analysis for unusual activities\n",
        "# Find the mean transaction amount by country, highlighting potential geographic anomalies\n",
        "average_transaction_by_country = df.groupby('Country')['transaction_amount'].mean().sort_values(ascending=False)\n",
        "\n",
        "# Highest rate of unusual activity by geographic location\n",
        "unusual_activities_by_location = df[df['is_fraudulent'] == 1]['location_country'].value_counts()\n",
        "\n",
        "print(\"\\nSummary of Unusual Activities:\")\n",
        "for index, value in unusual_activities_by_location.iteritems():\n",
        "    country_name = label_encoder.inverse_transform([index])[0]\n",
        "    print(f\"Country: {country_name} has a high rate of unusual activities with {value} suspected cases.\")\n",
        "\n",
        "print(\"\\nDetailed Transaction Amounts by Country:\")\n",
        "for country, avg_amount in average_transaction_by_country.iteritems():\n",
        "    print(f\"Country: {country} has an average transaction amount significantly higher or lower than normal: {avg_amount:.2f}\")\n",
        "\n",
        "# Generate readable output for individual alerts\n",
        "for _, row in results.iterrows():\n",
        "    if row['Predicted'] == 1:\n",
        "        print(f\"\\nFraud Alert: Suspicious transaction detected!\")\n",
        "        print(f\"Details: Transaction from {row['Country']} at {row['Hour of Day']} o'clock.\")\n",
        "        print(f\"Transaction amount (normalized): {row['Transaction Amount']:.2f}\")\n",
        "        print(\"Recommendation: Verify the transaction manually, especially the amount and timing.\")\n",
        "        print(\"------------------------------------------------------------\")\n"
      ],
      "metadata": {
        "id": "dNwoaH7MW1jM",
        "colab": {
          "base_uri": "https://localhost:8080/",
          "height": 795
        },
        "outputId": "38379c7d-f2e6-4b33-de57-7655c440a9f0"
      },
      "execution_count": 32,
      "outputs": [
        {
          "output_type": "stream",
          "name": "stdout",
          "text": [
            "              precision    recall  f1-score   support\n",
            "\n",
            "           0       0.95      1.00      0.97      1885\n",
            "           1       0.00      0.00      0.00       105\n",
            "\n",
            "    accuracy                           0.95      1990\n",
            "   macro avg       0.47      0.50      0.49      1990\n",
            "weighted avg       0.90      0.95      0.92      1990\n",
            "\n"
          ]
        },
        {
          "output_type": "stream",
          "name": "stderr",
          "text": [
            "/usr/local/lib/python3.10/dist-packages/sklearn/linear_model/_logistic.py:458: ConvergenceWarning: lbfgs failed to converge (status=1):\n",
            "STOP: TOTAL NO. of ITERATIONS REACHED LIMIT.\n",
            "\n",
            "Increase the number of iterations (max_iter) or scale the data as shown in:\n",
            "    https://scikit-learn.org/stable/modules/preprocessing.html\n",
            "Please also refer to the documentation for alternative solver options:\n",
            "    https://scikit-learn.org/stable/modules/linear_model.html#logistic-regression\n",
            "  n_iter_i = _check_optimize_result(\n",
            "/usr/local/lib/python3.10/dist-packages/sklearn/metrics/_classification.py:1344: UndefinedMetricWarning: Precision and F-score are ill-defined and being set to 0.0 in labels with no predicted samples. Use `zero_division` parameter to control this behavior.\n",
            "  _warn_prf(average, modifier, msg_start, len(result))\n",
            "/usr/local/lib/python3.10/dist-packages/sklearn/metrics/_classification.py:1344: UndefinedMetricWarning: Precision and F-score are ill-defined and being set to 0.0 in labels with no predicted samples. Use `zero_division` parameter to control this behavior.\n",
            "  _warn_prf(average, modifier, msg_start, len(result))\n",
            "/usr/local/lib/python3.10/dist-packages/sklearn/metrics/_classification.py:1344: UndefinedMetricWarning: Precision and F-score are ill-defined and being set to 0.0 in labels with no predicted samples. Use `zero_division` parameter to control this behavior.\n",
            "  _warn_prf(average, modifier, msg_start, len(result))\n"
          ]
        },
        {
          "output_type": "error",
          "ename": "KeyError",
          "evalue": "'Country'",
          "traceback": [
            "\u001b[0;31m---------------------------------------------------------------------------\u001b[0m",
            "\u001b[0;31mKeyError\u001b[0m                                  Traceback (most recent call last)",
            "\u001b[0;32m<ipython-input-32-2f6bc43173dc>\u001b[0m in \u001b[0;36m<cell line: 46>\u001b[0;34m()\u001b[0m\n\u001b[1;32m     44\u001b[0m \u001b[0;31m# Detailed analysis for unusual activities\u001b[0m\u001b[0;34m\u001b[0m\u001b[0;34m\u001b[0m\u001b[0m\n\u001b[1;32m     45\u001b[0m \u001b[0;31m# Find the mean transaction amount by country, highlighting potential geographic anomalies\u001b[0m\u001b[0;34m\u001b[0m\u001b[0;34m\u001b[0m\u001b[0m\n\u001b[0;32m---> 46\u001b[0;31m \u001b[0maverage_transaction_by_country\u001b[0m \u001b[0;34m=\u001b[0m \u001b[0mdf\u001b[0m\u001b[0;34m.\u001b[0m\u001b[0mgroupby\u001b[0m\u001b[0;34m(\u001b[0m\u001b[0;34m'Country'\u001b[0m\u001b[0;34m)\u001b[0m\u001b[0;34m[\u001b[0m\u001b[0;34m'transaction_amount'\u001b[0m\u001b[0;34m]\u001b[0m\u001b[0;34m.\u001b[0m\u001b[0mmean\u001b[0m\u001b[0;34m(\u001b[0m\u001b[0;34m)\u001b[0m\u001b[0;34m.\u001b[0m\u001b[0msort_values\u001b[0m\u001b[0;34m(\u001b[0m\u001b[0mascending\u001b[0m\u001b[0;34m=\u001b[0m\u001b[0;32mFalse\u001b[0m\u001b[0;34m)\u001b[0m\u001b[0;34m\u001b[0m\u001b[0;34m\u001b[0m\u001b[0m\n\u001b[0m\u001b[1;32m     47\u001b[0m \u001b[0;34m\u001b[0m\u001b[0m\n\u001b[1;32m     48\u001b[0m \u001b[0;31m# Highest rate of unusual activity by geographic location\u001b[0m\u001b[0;34m\u001b[0m\u001b[0;34m\u001b[0m\u001b[0m\n",
            "\u001b[0;32m/usr/local/lib/python3.10/dist-packages/pandas/core/frame.py\u001b[0m in \u001b[0;36mgroupby\u001b[0;34m(self, by, axis, level, as_index, sort, group_keys, observed, dropna)\u001b[0m\n\u001b[1;32m   8250\u001b[0m         \u001b[0maxis\u001b[0m \u001b[0;34m=\u001b[0m \u001b[0mself\u001b[0m\u001b[0;34m.\u001b[0m\u001b[0m_get_axis_number\u001b[0m\u001b[0;34m(\u001b[0m\u001b[0maxis\u001b[0m\u001b[0;34m)\u001b[0m\u001b[0;34m\u001b[0m\u001b[0;34m\u001b[0m\u001b[0m\n\u001b[1;32m   8251\u001b[0m \u001b[0;34m\u001b[0m\u001b[0m\n\u001b[0;32m-> 8252\u001b[0;31m         return DataFrameGroupBy(\n\u001b[0m\u001b[1;32m   8253\u001b[0m             \u001b[0mobj\u001b[0m\u001b[0;34m=\u001b[0m\u001b[0mself\u001b[0m\u001b[0;34m,\u001b[0m\u001b[0;34m\u001b[0m\u001b[0;34m\u001b[0m\u001b[0m\n\u001b[1;32m   8254\u001b[0m             \u001b[0mkeys\u001b[0m\u001b[0;34m=\u001b[0m\u001b[0mby\u001b[0m\u001b[0;34m,\u001b[0m\u001b[0;34m\u001b[0m\u001b[0;34m\u001b[0m\u001b[0m\n",
            "\u001b[0;32m/usr/local/lib/python3.10/dist-packages/pandas/core/groupby/groupby.py\u001b[0m in \u001b[0;36m__init__\u001b[0;34m(self, obj, keys, axis, level, grouper, exclusions, selection, as_index, sort, group_keys, observed, dropna)\u001b[0m\n\u001b[1;32m    929\u001b[0m \u001b[0;34m\u001b[0m\u001b[0m\n\u001b[1;32m    930\u001b[0m         \u001b[0;32mif\u001b[0m \u001b[0mgrouper\u001b[0m \u001b[0;32mis\u001b[0m \u001b[0;32mNone\u001b[0m\u001b[0;34m:\u001b[0m\u001b[0;34m\u001b[0m\u001b[0;34m\u001b[0m\u001b[0m\n\u001b[0;32m--> 931\u001b[0;31m             grouper, exclusions, obj = get_grouper(\n\u001b[0m\u001b[1;32m    932\u001b[0m                 \u001b[0mobj\u001b[0m\u001b[0;34m,\u001b[0m\u001b[0;34m\u001b[0m\u001b[0;34m\u001b[0m\u001b[0m\n\u001b[1;32m    933\u001b[0m                 \u001b[0mkeys\u001b[0m\u001b[0;34m,\u001b[0m\u001b[0;34m\u001b[0m\u001b[0;34m\u001b[0m\u001b[0m\n",
            "\u001b[0;32m/usr/local/lib/python3.10/dist-packages/pandas/core/groupby/grouper.py\u001b[0m in \u001b[0;36mget_grouper\u001b[0;34m(obj, key, axis, level, sort, observed, validate, dropna)\u001b[0m\n\u001b[1;32m    983\u001b[0m                 \u001b[0min_axis\u001b[0m\u001b[0;34m,\u001b[0m \u001b[0mlevel\u001b[0m\u001b[0;34m,\u001b[0m \u001b[0mgpr\u001b[0m \u001b[0;34m=\u001b[0m \u001b[0;32mFalse\u001b[0m\u001b[0;34m,\u001b[0m \u001b[0mgpr\u001b[0m\u001b[0;34m,\u001b[0m \u001b[0;32mNone\u001b[0m\u001b[0;34m\u001b[0m\u001b[0;34m\u001b[0m\u001b[0m\n\u001b[1;32m    984\u001b[0m             \u001b[0;32melse\u001b[0m\u001b[0;34m:\u001b[0m\u001b[0;34m\u001b[0m\u001b[0;34m\u001b[0m\u001b[0m\n\u001b[0;32m--> 985\u001b[0;31m                 \u001b[0;32mraise\u001b[0m \u001b[0mKeyError\u001b[0m\u001b[0;34m(\u001b[0m\u001b[0mgpr\u001b[0m\u001b[0;34m)\u001b[0m\u001b[0;34m\u001b[0m\u001b[0;34m\u001b[0m\u001b[0m\n\u001b[0m\u001b[1;32m    986\u001b[0m         \u001b[0;32melif\u001b[0m \u001b[0misinstance\u001b[0m\u001b[0;34m(\u001b[0m\u001b[0mgpr\u001b[0m\u001b[0;34m,\u001b[0m \u001b[0mGrouper\u001b[0m\u001b[0;34m)\u001b[0m \u001b[0;32mand\u001b[0m \u001b[0mgpr\u001b[0m\u001b[0;34m.\u001b[0m\u001b[0mkey\u001b[0m \u001b[0;32mis\u001b[0m \u001b[0;32mnot\u001b[0m \u001b[0;32mNone\u001b[0m\u001b[0;34m:\u001b[0m\u001b[0;34m\u001b[0m\u001b[0;34m\u001b[0m\u001b[0m\n\u001b[1;32m    987\u001b[0m             \u001b[0;31m# Add key to exclusions\u001b[0m\u001b[0;34m\u001b[0m\u001b[0;34m\u001b[0m\u001b[0m\n",
            "\u001b[0;31mKeyError\u001b[0m: 'Country'"
          ]
        }
      ]
    }
  ]
}